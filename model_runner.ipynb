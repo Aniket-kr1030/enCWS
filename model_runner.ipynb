{
 "cells": [
  {
   "cell_type": "code",
   "execution_count": 9,
   "id": "14090960",
   "metadata": {},
   "outputs": [],
   "source": [
    "import os\n",
    "import cv2\n",
    "import math\n",
    "import pafy\n",
    "import random\n",
    "import numpy as np\n",
    "import datetime as dt\n",
    "import tensorflow as tf\n",
    "\n",
    "\n",
    "from collections import deque\n",
    "import matplotlib.pyplot as plt\n",
    "%matplotlib inline\n",
    "\n",
    "from sklearn.model_selection import train_test_split\n",
    "\n",
    "from tensorflow.keras.layers import *\n",
    "from tensorflow.keras.models import Sequential\n",
    "from tensorflow.keras.utils import to_categorical\n",
    "from tensorflow.keras.callbacks import EarlyStopping\n",
    "from tensorflow.keras.utils import plot_model\n",
    "from keras import models\n",
    "from moviepy.editor import *"
   ]
  },
  {
   "cell_type": "code",
   "execution_count": 10,
   "id": "83ff1e90",
   "metadata": {},
   "outputs": [],
   "source": [
    "model  = models.load_model('Model___Date_Time_2022_03_06__18_07_40___Loss_0.043393298983573914___Accuracy_0.9979687333106995.h5')"
   ]
  },
  {
   "cell_type": "code",
   "execution_count": 11,
   "id": "49ffb5ab",
   "metadata": {},
   "outputs": [],
   "source": [
    "image_height = 64\n",
    "image_width =  64"
   ]
  },
  {
   "cell_type": "code",
   "execution_count": 12,
   "id": "34c48084",
   "metadata": {},
   "outputs": [],
   "source": [
    "def predict_on_live_video(video_file_path, output_file_path, window_size):\n",
    "\n",
    "    # Initialize a Deque Object with a fixed size which will be used to implement moving/rolling average functionality.\n",
    "    predicted_labels_probabilities_deque = deque(maxlen = window_size)\n",
    "    \n",
    "    # Reading the Video File using the VideoCapture Object\n",
    "    video_reader = cv2.VideoCapture(video_file_path)\n",
    "\n",
    "    # Getting the width and height of the video \n",
    "    original_video_width = int(video_reader.get(cv2.CAP_PROP_FRAME_WIDTH))\n",
    "    original_video_height = int(video_reader.get(cv2.CAP_PROP_FRAME_HEIGHT))\n",
    "\n",
    "    # Writing the Overlayed Video Files Using the VideoWriter Object\n",
    "    video_writer = cv2.VideoWriter(output_file_path, cv2.VideoWriter_fourcc('M', 'P', '4', 'V'), 30, (original_video_width, original_video_height))\n",
    "\n",
    "    while True: \n",
    "\n",
    "        # Reading The Frame\n",
    "        status, frame = video_reader.read() \n",
    "\n",
    "        if not status:\n",
    "            break\n",
    "\n",
    "        # Resize the Frame to fixed Dimensions\n",
    "        resized_frame = cv2.resize(frame, (image_height, image_width))\n",
    "        \n",
    "        # Normalize the resized frame by dividing it with 255 so that each pixel value then lies between 0 and 1\n",
    "        normalized_frame = resized_frame / 255\n",
    "\n",
    "        # Passing the Image Normalized Frame to the model and receiving Predicted Probabilities.\n",
    "        predicted_labels_probabilities = model.predict(np.expand_dims(normalized_frame, axis = 0))[0]\n",
    "\n",
    "        # Appending predicted label probabilities to the deque object\n",
    "        predicted_labels_probabilities_deque.append(predicted_labels_probabilities)\n",
    "\n",
    "        # Assuring that the Deque is completely filled before starting the averaging process\n",
    "        if len(predicted_labels_probabilities_deque) == window_size:\n",
    "\n",
    "            # Converting Predicted Labels Probabilities Deque into Numpy array\n",
    "            predicted_labels_probabilities_np = np.array(predicted_labels_probabilities_deque)\n",
    "\n",
    "            # Calculating Average of Predicted Labels Probabilities Column Wise \n",
    "            predicted_labels_probabilities_averaged = predicted_labels_probabilities_np.mean(axis = 0)\n",
    "\n",
    "            # Converting the predicted probabilities into labels by returning the index of the maximum value.\n",
    "            predicted_label = np.argmax(predicted_labels_probabilities_averaged)\n",
    "\n",
    "            # Accessing The Class Name using predicted label.\n",
    "            predicted_class_name = classes_list[predicted_label]\n",
    "          \n",
    "            # Overlaying Class Name Text Ontop of the Frame\n",
    "            cv2.putText(frame, predicted_class_name, (10, 30), cv2.FONT_HERSHEY_SIMPLEX, 1, (0, 0, 255), 2)\n",
    "\n",
    "        # Writing The Frame\n",
    "        video_writer.write(frame)\n",
    "\n",
    "\n",
    "        # cv2.imshow('Predicted Frames', frame)\n",
    "\n",
    "        # key_pressed = cv2.waitKey(10)\n",
    "\n",
    "        # if key_pressed == ord('q'):\n",
    "        #     break\n",
    "\n",
    "    # cv2.destroyAllWindows()\n",
    "\n",
    "    \n",
    "    # Closing the VideoCapture and VideoWriter objects and releasing all resources held by them. \n",
    "    video_reader.release()\n",
    "    video_writer.release()"
   ]
  },
  {
   "cell_type": "code",
   "execution_count": 13,
   "id": "f69e5ea9",
   "metadata": {},
   "outputs": [],
   "source": [
    "video_title = '2'\n",
    "input_directory = 'Youtube_Videos'\n",
    "output_directory = 'Analyzed_Videos'\n",
    "number_of_vids = 4"
   ]
  },
  {
   "cell_type": "code",
   "execution_count": null,
   "id": "58a21e07",
   "metadata": {},
   "outputs": [],
   "source": []
  },
  {
   "cell_type": "code",
   "execution_count": 15,
   "id": "8f86d64f",
   "metadata": {},
   "outputs": [],
   "source": [
    "window_size = 25\n",
    "\n",
    "classes_list = [\"normal\", \"Assault\",\"Burglary\", \"Fighting\"]\n",
    "\n",
    "for i in range(int(video_title),number_of_vids+1):\n",
    "    input_video_file_path = f'{input_directory}/{video_title}.mp4'\n",
    "    output_video_file_path = f'{output_directory}/{video_title}.mp4'\n",
    "    predict_on_live_video(input_video_file_path, output_video_file_path, window_size)\n",
    "    \n",
    "    video_title = str(int(video_title) +1)\n",
    "\n",
    "\n"
   ]
  },
  {
   "cell_type": "code",
   "execution_count": null,
   "id": "fb702e84",
   "metadata": {},
   "outputs": [],
   "source": []
  },
  {
   "cell_type": "code",
   "execution_count": null,
   "id": "54722b51",
   "metadata": {},
   "outputs": [],
   "source": []
  },
  {
   "cell_type": "code",
   "execution_count": null,
   "id": "589097c0",
   "metadata": {},
   "outputs": [],
   "source": []
  },
  {
   "cell_type": "code",
   "execution_count": null,
   "id": "c80c2bef",
   "metadata": {},
   "outputs": [],
   "source": []
  }
 ],
 "metadata": {
  "kernelspec": {
   "display_name": "Python 3 (ipykernel)",
   "language": "python",
   "name": "python3"
  },
  "language_info": {
   "codemirror_mode": {
    "name": "ipython",
    "version": 3
   },
   "file_extension": ".py",
   "mimetype": "text/x-python",
   "name": "python",
   "nbconvert_exporter": "python",
   "pygments_lexer": "ipython3",
   "version": "3.7.10"
  }
 },
 "nbformat": 4,
 "nbformat_minor": 5
}
